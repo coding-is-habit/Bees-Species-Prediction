{
 "cells": [
  {
   "cell_type": "markdown",
   "metadata": {
    "dc": {
     "key": "3"
    },
    "deletable": false,
    "editable": false,
    "run_control": {
     "frozen": true
    },
    "tags": [
     "context"
    ]
   },
   "source": [
    "## 1. Import Python libraries\n",
    "<p><img src=\"https://s3.amazonaws.com/assets.datacamp.com/production/project_412/img/92_notebook.jpg\" alt=\"honey bee\">\n",
    "<em>A honey bee (Apis).</em></p>\n",
    "<p>Can a machine identify a bee as a honey bee or a bumble bee? These bees have different <a href=\"https://www.thesca.org/connect/blog/bumblebees-vs-honeybees-what%E2%80%99s-difference-and-why-does-it-matter\">behaviors and appearances</a>, but given the variety of backgrounds, positions, and image resolutions, it can be a challenge for machines to tell them apart.</p>\n",
    "<p>Being able to identify bee species from images is a task that ultimately would allow researchers to more quickly and effectively collect field data. Pollinating bees have critical roles in both ecology and agriculture, and diseases like <a href=\"http://news.harvard.edu/gazette/story/2015/07/pesticide-found-in-70-percent-of-massachusetts-honey-samples/\">colony collapse disorder</a> threaten these species. Identifying different species of bees in the wild means that we can better understand the prevalence and growth of these important insects.</p>\n",
    "<p><img src=\"https://s3.amazonaws.com/assets.datacamp.com/production/project_412/img/20_notebook.jpg\" alt=\"bumble bee\">\n",
    "<em>A bumble bee (Bombus).</em></p>\n",
    "<p>After loading and pre-processing images, this notebook walks through building a model that can automatically detect honey bees and bumble bees.</p>"
   ]
  },
  {
   "cell_type": "code",
   "execution_count": 0,
   "metadata": {
    "dc": {
     "key": "3"
    },
    "tags": [
     "sample_code"
    ]
   },
   "outputs": [],
   "source": [
    "# used to change filepaths\n",
    "import os\n",
    "\n",
    "import matplotlib as mpl\n",
    "import matplotlib.pyplot as plt\n",
    "from IPython.display import display\n",
    "%matplotlib inline\n",
    "\n",
    "import pandas as pd\n",
    "import numpy as np\n",
    "\n",
    "# import Image from PIL\n",
    "# ... YOUR CODE FOR TASK 1 ...\n",
    "\n",
    "from skimage.feature import hog\n",
    "from skimage.color import rgb2grey\n",
    "\n",
    "from sklearn.preprocessing import StandardScaler\n",
    "from sklearn.decomposition import PCA\n",
    "\n",
    "# import train_test_split from sklearn's model selection module\n",
    "# ... YOUR CODE FOR TASK 1 ...\n",
    "\n",
    "# import SVC from sklearn's svm module\n",
    "# ... YOUR CODE FOR TASK 1 ...\n",
    "\n",
    "# import accuracy_score from sklearn's metrics module\n",
    "from sklearn.metrics import roc_curve, auc, ..."
   ]
  },
  {
   "cell_type": "markdown",
   "metadata": {
    "dc": {
     "key": "10"
    },
    "deletable": false,
    "editable": false,
    "run_control": {
     "frozen": true
    },
    "tags": [
     "context"
    ]
   },
   "source": [
    "## 2. Display image of each bee type\n",
    "<p>Now that we have all of our imports ready, it is time to look at some images. We will load our <code>labels.csv</code> file into a dataframe called <code>labels</code>, where the index is the image name (e.g. an index of 1036 refers to an image named 1036.jpg) and the <code>genus</code> column tells us the bee type. <code>genus</code> takes the value of either <code>0.0</code> (Apis or honey bee) or <code>1.0</code> (Bombus or bumble bee).</p>\n",
    "<p>The function <code>get_image</code> converts an index value from the dataframe into a file path where the image is located, opens the image using the <a href=\"https://pillow.readthedocs.io/en/5.1.x/reference/Image.html\">Image</a> object in Pillow, and then returns the image as a numpy array.</p>\n",
    "<p>We'll use this function to load the sixth Apis image and then the sixth Bombus image in the dataframe.</p>"
   ]
  },
  {
   "cell_type": "code",
   "execution_count": 0,
   "metadata": {
    "dc": {
     "key": "10"
    },
    "tags": [
     "sample_code"
    ]
   },
   "outputs": [],
   "source": [
    "# load the labels using pandas\n",
    "labels = pd.read_csv(\"datasets/labels.csv\", index_col=0)\n",
    "\n",
    "# show the first five rows of the dataframe using head\n",
    "display(...)\n",
    "\n",
    "def get_image(row_id, root=\"datasets/\"):\n",
    "    \"\"\"\n",
    "    Converts an image number into the file path where the image is located, \n",
    "    opens the image, and returns the image as a numpy array.\n",
    "    \"\"\"\n",
    "    filename = \"{}.jpg\".format(row_id)\n",
    "    file_path = os.path.join(root, filename)\n",
    "    img = Image.open(file_path)\n",
    "    return np.array(img)\n",
    "\n",
    "# subset the dataframe to just Apis (genus is 0.0) get the value of the sixth item in the index\n",
    "apis_row = labels[labels.genus == 0.0].index[5]\n",
    "\n",
    "# show the corresponding image of an Apis\n",
    "plt.imshow(get_image(apis_row))\n",
    "plt.show()\n",
    "\n",
    "# subset the dataframe to just Bombus (genus is 1.0) get the value of the sixth item in the index\n",
    "bombus_row = ...\n",
    "\n",
    "# show the corresponding image of a Bombus\n",
    "plt.imshow(...)\n",
    "plt.show()"
   ]
  },
  {
   "cell_type": "markdown",
   "metadata": {
    "dc": {
     "key": "17"
    },
    "deletable": false,
    "editable": false,
    "run_control": {
     "frozen": true
    },
    "tags": [
     "context"
    ]
   },
   "source": [
    "## 3. Image manipulation with rgb2grey\n",
    "<p>scikit-image has a number of image processing functions built into the library, for example, converting an image to greyscale. The <a href=\"http://scikit-image.org/docs/dev/api/skimage.color.html#skimage.color.rgb2grey\"><code>rgb2grey</code></a> function computes the luminance of an RGB image using the following formula <code>Y = 0.2125 R + 0.7154 G + 0.0721 B</code>. </p>\n",
    "<p>Image data is represented as a matrix, where the depth is the number of channels. An RGB image has three channels (red, green, and blue) whereas the returned greyscale image has only one channel. Accordingly, the original color image has the dimensions <code>100x100x3</code> but after calling <code>rgb2grey</code>, the resulting greyscale image has only one channel, making the dimensions <code>100x100x1</code>.</p>"
   ]
  },
  {
   "cell_type": "code",
   "execution_count": 0,
   "metadata": {
    "dc": {
     "key": "17"
    },
    "tags": [
     "sample_code"
    ]
   },
   "outputs": [],
   "source": [
    "# load a bombus image using our get_image function and bombus_row from the previous cell\n",
    "bombus = ...\n",
    "\n",
    "# print the shape of the bombus image\n",
    "print('Color bombus image has shape: ', ...)\n",
    "\n",
    "# convert the bombus image to greyscale\n",
    "grey_bombus = ...\n",
    "\n",
    "# show the greyscale image\n",
    "plt.imshow(grey_bombus, cmap=mpl.cm.gray)\n",
    "\n",
    "# greyscale bombus image only has one channel\n",
    "print('Greyscale bombus image has shape: ', ...)"
   ]
  },
  {
   "cell_type": "markdown",
   "metadata": {
    "dc": {
     "key": "24"
    },
    "deletable": false,
    "editable": false,
    "run_control": {
     "frozen": true
    },
    "tags": [
     "context"
    ]
   },
   "source": [
    "## 4. Histogram of oriented gradients\n",
    "<p>Now we need to turn these images into something that a machine learning algorithm can understand. Traditional computer vision techniques have relied on mathematical transforms to turn images into useful features. For example, you may want to detect edges of objects in an image, increase the contrast, or filter out particular colors.</p>\n",
    "<p>We've got a matrix of pixel values, but those don't contain enough interesting information on their own for most algorithms. We need to help the algorithms along by picking out some of the salient features for them using the <a href=\"http://scikit-image.org/docs/dev/auto_examples/features_detection/plot_hog.html\">histogram of oriented gradients</a> (HOG) descriptor. The idea behind <a href=\"https://en.wikipedia.org/wiki/Histogram_of_oriented_gradients\">HOG</a> is that an object's shape within an image can be inferred by its edges, and a way to identify edges is by looking at the direction of intensity gradients (i.e. changes in luminescence). </p>\n",
    "<p><img src=\"https://s3.amazonaws.com/assets.datacamp.com/production/project_412/img/hog.png\" alt=\"HOG\"></p>\n",
    "<p>An image is divided in a grid fashion into cells, and for the pixels within each cell, a histogram of gradient directions is compiled. To improve invariance to highlights and shadows in an image, cells are block normalized, meaning an intensity value is calculated for a larger region of an image called a block and used to contrast normalize all cell-level histograms within each block. The HOG feature vector for the image is the concatenation of these cell-level histograms.</p>"
   ]
  },
  {
   "cell_type": "code",
   "execution_count": 0,
   "metadata": {
    "dc": {
     "key": "24"
    },
    "tags": [
     "sample_code"
    ]
   },
   "outputs": [],
   "source": [
    "# run HOG using our greyscale bombus image\n",
    "hog_features, hog_image = hog(...,\n",
    "                              visualize=True,\n",
    "                              block_norm='L2-Hys',\n",
    "                              pixels_per_cell=(16, 16))\n",
    "\n",
    "# show our hog_image with a grey colormap\n",
    "plt.imshow(..., cmap=mpl.cm.gray)"
   ]
  },
  {
   "cell_type": "markdown",
   "metadata": {
    "dc": {
     "key": "31"
    },
    "deletable": false,
    "editable": false,
    "run_control": {
     "frozen": true
    },
    "tags": [
     "context"
    ]
   },
   "source": [
    "## 5. Create image features and flatten into a single row\n",
    "<p>Algorithms require data to be in a format where rows correspond to images and columns correspond to features. This means that all the information for a given image needs to be contained in a single row.</p>\n",
    "<p>We want to provide our model with the raw pixel values from our images as well as the HOG features we just calculated. To do this, we will write a function called <code>create_features</code> that combines these two sets of features by flattening the three-dimensional array into a one-dimensional (flat) array.</p>"
   ]
  },
  {
   "cell_type": "code",
   "execution_count": 0,
   "metadata": {
    "dc": {
     "key": "31"
    },
    "tags": [
     "sample_code"
    ]
   },
   "outputs": [],
   "source": [
    "def create_features(img):\n",
    "    # flatten three channel color image\n",
    "    color_features = ...\n",
    "    # convert image to greyscale\n",
    "    grey_image = rgb2grey(img)\n",
    "    # get HOG features from greyscale image\n",
    "    hog_features = hog(grey_image, block_norm='L2-Hys', pixels_per_cell=(16, 16))\n",
    "    # combine color and hog features into a single array\n",
    "    flat_features = ...\n",
    "    return flat_features\n",
    "\n",
    "bombus_features = ...\n",
    "\n",
    "# print shape of bombus_features\n",
    "# ... YOUR CODE FOR TASK 5 ..."
   ]
  },
  {
   "cell_type": "markdown",
   "metadata": {
    "dc": {
     "key": "38"
    },
    "deletable": false,
    "editable": false,
    "run_control": {
     "frozen": true
    },
    "tags": [
     "context"
    ]
   },
   "source": [
    "## 6. Loop over images to preprocess\n",
    "<p>Above we generated a flattened features array for the bombus image. Now it's time to loop over all of our images. We will create features for each image and then stack the flattened features arrays into a big matrix we can pass into our model.</p>\n",
    "<p>In the <code>create_feature_matrix</code> function, we'll do the following:</p>\n",
    "<ul>\n",
    "<li>Load an image</li>\n",
    "<li>Generate a row of features using the <code>create_features</code> function above</li>\n",
    "<li>Stack the rows into a features matrix</li>\n",
    "</ul>\n",
    "<p>In the resulting features matrix, rows correspond to images and columns to features.</p>"
   ]
  },
  {
   "cell_type": "code",
   "execution_count": 0,
   "metadata": {
    "dc": {
     "key": "38"
    },
    "tags": [
     "sample_code"
    ]
   },
   "outputs": [],
   "source": [
    "def create_feature_matrix(label_dataframe):\n",
    "    features_list = []\n",
    "    \n",
    "    for img_id in label_dataframe.index:\n",
    "        # load image\n",
    "        img = ...\n",
    "        # get features for image\n",
    "        image_features = ...\n",
    "        features_list.append(image_features)\n",
    "        \n",
    "    # convert list of arrays into a matrix\n",
    "    feature_matrix = np.array(features_list)\n",
    "    return feature_matrix\n",
    "\n",
    "# run create_feature_matrix on our dataframe of images\n",
    "feature_matrix = ..."
   ]
  },
  {
   "cell_type": "markdown",
   "metadata": {
    "dc": {
     "key": "45"
    },
    "deletable": false,
    "editable": false,
    "run_control": {
     "frozen": true
    },
    "tags": [
     "context"
    ]
   },
   "source": [
    "## 7. Scale feature matrix + PCA\n",
    "<p>Our features aren't quite done yet. Many machine learning methods are built to work best with data that has a mean of 0 and unit variance. Luckily, scikit-learn <a href=\"http://scikit-learn.org/stable/modules/generated/sklearn.preprocessing.StandardScaler.html\">provides a simple way</a> to rescale your data to work well using <code>StandardScaler</code>. They've got a more thorough explanation of why that is in the linked docs.</p>\n",
    "<p>Remember also that we have over 31,000 features for each image and only 500 images total. To use an SVM, our model of choice, we also need to reduce the number of features we have using <a href=\"http://scikit-learn.org/stable/modules/decomposition.html#pca\">principal component analysis</a> (PCA). </p>\n",
    "<p>PCA is a way of linearly transforming the data such that most of the information in the data is contained within a smaller number of features called components. Below is a visual <a href=\"https://towardsdatascience.com/pca-using-python-scikit-learn-e653f8989e60\">example</a> from an image dataset containing handwritten numbers. The image on the left is the original image with 784 components. We can see that the image on the right (post PCA) captures the shape of the number quite effectively even with only 59 components.</p>\n",
    "<p><img src=\"https://s3.amazonaws.com/assets.datacamp.com/production/project_412/img/pca_cropped.png\" alt=\"PCA\"></p>\n",
    "<p>In our case, we will keep 500 components. This means our feature matrix will only have 500 columns rather than the original 31,296.</p>"
   ]
  },
  {
   "cell_type": "code",
   "execution_count": 0,
   "metadata": {
    "dc": {
     "key": "45"
    },
    "tags": [
     "sample_code"
    ]
   },
   "outputs": [],
   "source": [
    "# get shape of feature matrix\n",
    "print('Feature matrix shape is: ', ...)\n",
    "\n",
    "# define standard scaler\n",
    "ss = StandardScaler()\n",
    "# run this on our feature matrix\n",
    "bees_stand = ss.fit_transform(...)\n",
    "\n",
    "pca = PCA(n_components=500)\n",
    "# use fit_transform to run PCA on our standardized matrix\n",
    "bees_pca = ...\n",
    "# look at new shape\n",
    "print('PCA matrix shape is: ', ...)"
   ]
  },
  {
   "cell_type": "markdown",
   "metadata": {
    "dc": {
     "key": "52"
    },
    "deletable": false,
    "editable": false,
    "run_control": {
     "frozen": true
    },
    "tags": [
     "context"
    ]
   },
   "source": [
    "## 8. Split into train and test sets\n",
    "<p>Now we need to convert our data into train and test sets. We'll use 70% of images as our training data and test our model on the remaining 30%. Scikit-learn's <a href=\"http://scikit-learn.org/stable/modules/generated/sklearn.model_selection.train_test_split.html\"><code>train_test_split</code></a> function makes this easy.</p>"
   ]
  },
  {
   "cell_type": "code",
   "execution_count": 0,
   "metadata": {
    "dc": {
     "key": "52"
    },
    "tags": [
     "sample_code"
    ]
   },
   "outputs": [],
   "source": [
    "X_train, X_test, y_train, y_test = train_test_split(...,\n",
    "                                                    ...,\n",
    "                                                    test_size=.3,\n",
    "                                                    random_state=1234123)\n",
    "\n",
    "# look at the distrubution of labels in the train set\n",
    "# ... YOUR CODE FOR TASK 8"
   ]
  },
  {
   "cell_type": "markdown",
   "metadata": {
    "dc": {
     "key": "59"
    },
    "deletable": false,
    "editable": false,
    "run_control": {
     "frozen": true
    },
    "tags": [
     "context"
    ]
   },
   "source": [
    "## 9. Train model\n",
    "<p>It's finally time to build our model! We'll use a <a href=\"http://scikit-learn.org/stable/modules/svm.html\">support vector machine</a> (SVM), a type of supervised machine learning model used for regression, classification, and outlier detection.\" An <a href=\"https://en.wikipedia.org/wiki/Support_vector_machine\">SVM model</a> is a representation of the examples as points in space, mapped so that the examples of the separate categories are divided by a clear gap that is as wide as possible. New examples are then mapped into that same space and predicted to belong to a category based on which side of the gap they fall.\"</p>\n",
    "<p>Here's a visualization of the maximum margin separating two classes using an SVM classifier with a linear kernel.\n",
    "<img src=\"https://s3.amazonaws.com/assets.datacamp.com/production/project_412/img/svm_cropped.png\" alt=\"SVM\"></p>\n",
    "<p>Since we have a classification task -- honey or bumble bee -- we will use the support vector classifier (SVC), a type of SVM. We imported this class at the top of the notebook.</p>"
   ]
  },
  {
   "cell_type": "code",
   "execution_count": 0,
   "metadata": {
    "dc": {
     "key": "59"
    },
    "tags": [
     "sample_code"
    ]
   },
   "outputs": [],
   "source": [
    "# define support vector classifier\n",
    "svm = ...\n",
    "\n",
    "# fit model\n",
    "# ... YOUR CODE FOR TASK 9 ..."
   ]
  },
  {
   "cell_type": "markdown",
   "metadata": {
    "dc": {
     "key": "66"
    },
    "deletable": false,
    "editable": false,
    "run_control": {
     "frozen": true
    },
    "tags": [
     "context"
    ]
   },
   "source": [
    "## 10. Score model\n",
    "<p>Now we'll use our trained model to generate predictions for our test data. To see how well our model did, we'll calculate the accuracy by comparing our predicted labels for the test set with the true labels in the test set. Accuracy is the number of correct predictions divided by the total number of predictions. Scikit-learn's <a href=\"http://scikit-learn.org/stable/modules/generated/sklearn.metrics.accuracy_score.html\"><code>accuracy_score</code></a> function will do math for us. Sometimes accuracy can be misleading, but since we have an equal number of honey and bumble bees, it is a useful metric for this problem.</p>"
   ]
  },
  {
   "cell_type": "code",
   "execution_count": 0,
   "metadata": {
    "dc": {
     "key": "66"
    },
    "tags": [
     "sample_code"
    ]
   },
   "outputs": [],
   "source": [
    "# generate predictions\n",
    "y_pred = ...\n",
    "\n",
    "# calculate accuracy\n",
    "accuracy = accuracy_score(...)\n",
    "print('Model accuracy is: ', accuracy)"
   ]
  },
  {
   "cell_type": "markdown",
   "metadata": {
    "dc": {
     "key": "73"
    },
    "deletable": false,
    "editable": false,
    "run_control": {
     "frozen": true
    },
    "tags": [
     "context"
    ]
   },
   "source": [
    "## 11. ROC curve + AUC\n",
    "<p>Above, we used <code>svm.predict</code> to predict either <code>0.0</code> or <code>1.0</code> for each image in <code>X_test</code>. Now, we'll use <code>svm.predict_proba</code> to get the probability that <strong>each class</strong> is the true label. For example, <code>predict_proba</code> returns <code>[0.46195176, 0.53804824]</code> for the first image, meaning there is a 46% chance the bee in the image is an Apis (<code>0.0</code>) and a 53% chance the bee in the image is a Bombus (<code>1.0</code>). Note that the two probabilities for each image always sum to 1. </p>\n",
    "<p>Using the default settings, probabilities of 0.5 or above are assigned a class label of <code>1.0</code> and those below are assigned a <code>0.0</code>. However, this threshold can be adjusted. The <a href=\"https://en.wikipedia.org/wiki/Receiver_operating_characteristic\">receiver operating characteristic curve</a> (ROC curve) plots the false positive rate and true positive rate at different thresholds. ROC curves are judged visually by how close they are to the upper lefthand corner. </p>\n",
    "<p>The <a href=\"https://en.wikipedia.org/wiki/Receiver_operating_characteristic#Area_under_the_curve\">area under the curve</a> (AUC) is also calculated, where 1 means every predicted label was correct. Generally, the worst score for AUC is 0.5, which is the performance of a model that randomly guesses. See the scikit-learn documentation for more resources and examples on <a href=\"http://scikit-learn.org/stable/modules/generated/sklearn.metrics.roc_curve.html\">ROC curves</a> and <a href=\"http://scikit-learn.org/stable/modules/generated/sklearn.metrics.auc.html\">AUC</a>.</p>"
   ]
  },
  {
   "cell_type": "code",
   "execution_count": 0,
   "metadata": {
    "dc": {
     "key": "73"
    },
    "tags": [
     "sample_code"
    ]
   },
   "outputs": [],
   "source": [
    "# predict probabilities for X_test using predict_proba\n",
    "probabilities = ...\n",
    "\n",
    "# select the probabilities for label 1.0\n",
    "y_proba = ...\n",
    "\n",
    "# calculate false positive rate and true positive rate at different thresholds\n",
    "false_positive_rate, true_positive_rate, thresholds = roc_curve(y_test, y_proba, pos_label=1)\n",
    "\n",
    "# calculate AUC\n",
    "roc_auc = auc(...)\n",
    "\n",
    "plt.title('Receiver Operating Characteristic')\n",
    "# plot the false positive rate on the x axis and the true positive rate on the y axis\n",
    "roc_plot = plt.plot(...,\n",
    "                    ...,\n",
    "                    label='AUC = {:0.2f}'.format(roc_auc))\n",
    "\n",
    "plt.legend(loc=0)\n",
    "plt.plot([0,1], [0,1], ls='--')\n",
    "plt.ylabel('True Positive Rate')\n",
    "plt.xlabel('False Positive Rate');"
   ]
  }
 ],
 "metadata": {
  "kernelspec": {
   "display_name": "Python 3",
   "language": "python",
   "name": "python3"
  },
  "language_info": {
   "codemirror_mode": {
    "name": "ipython",
    "version": 3
   },
   "file_extension": ".py",
   "mimetype": "text/x-python",
   "name": "python",
   "nbconvert_exporter": "python",
   "pygments_lexer": "ipython3",
   "version": "3.7.4"
  }
 },
 "nbformat": 4,
 "nbformat_minor": 2
}
